{
 "cells": [
  {
   "cell_type": "markdown",
   "metadata": {},
   "source": [
    "Amazon Web Scraper Project"
   ]
  },
  {
   "cell_type": "code",
   "execution_count": 2,
   "metadata": {},
   "outputs": [],
   "source": [
    "#import Libraries\n",
    "from bs4 import BeautifulSoup\n",
    "import requests\n",
    "import time\n",
    "import datetime\n",
    "\n",
    "import smtplib"
   ]
  },
  {
   "cell_type": "code",
   "execution_count": null,
   "metadata": {},
   "outputs": [],
   "source": [
    "#Connect to Website\n",
    "\n",
    "URL = 'https://www.amazon.com/Data-Analyst-Programmer-Accountant-Distressed/dp/B0C1TH5NPM/ref=sr_1_1?crid=3PWTU4MGRPCEJ&dib=eyJ2IjoiMSJ9.qg5LhQH2xA-xArUfkTVjq6RD5mmIWwb_zQ1k3Z6nSIyfth9CaXSOPsDRyooI1701eM4P9RPp9fFixwl8aX-umQ.UWfAATEz5G05vFWww9XyepDdsrCUGEtsUhBAnWSuwKo&dib_tag=se&keywords=funny+got+data+mis+data+systems+business+analyst+t-shirt&qid=1727785902&sprefix=funny+got+%2Caps%2C334&sr=8-1'\n",
    "\n",
    "headers = {\"User-Agent\": \"Mozilla/5.0 (Windows NT 10.0; Win64; x64) AppleWebKit/537.36 (KHTML, like Gecko) Chrome/129.0.0.0 Safari/537.36\",\"Accept-Encoding\": \"gzip, deflate, br, zstd\",\"Accept\": \"text/html,application/xhtml+xml,application/xml;q=0.9,\",\"DNT\":\"1\",\"Connection\":\"close\",\"Upgrade-Insecure-Requests\": \"1\"}\n",
    "\n",
    "page = requests.get(URL, headers=headers )\n",
    "\n",
    "\n",
    "soup1 = BeautifulSoup(page.content, \"html.parser\")\n",
    "\n",
    "soup2 = BeautifulSoup(soup1.prettify(),\"html.parser\")\n",
    "\n",
    "title = soup2.find(id='productTitle').get_text()\n",
    "\n",
    "price = soup2.find(id='corePrice_desktop').get_text()\n",
    "\n",
    "\n",
    "\n",
    "print(title)\n",
    "print(price)\n",
    "\n"
   ]
  },
  {
   "cell_type": "code",
   "execution_count": 31,
   "metadata": {},
   "outputs": [
    {
     "name": "stdout",
     "output_type": "stream",
     "text": [
      "Got Data? Data Analyst Programmer Accountant Distressed T-Shirt\n",
      "17.99\n"
     ]
    }
   ],
   "source": [
    "# price = price.strip()\n",
    "# print(price)\n",
    "price = price.replace(\"\\n\", \"\")\n",
    "price = price.split()[-1]\n",
    "price = price.strip()[1:]\n",
    "title = title.strip()\n",
    "\n",
    "print(title)\n",
    "print(price)"
   ]
  },
  {
   "cell_type": "code",
   "execution_count": 33,
   "metadata": {},
   "outputs": [
    {
     "name": "stdout",
     "output_type": "stream",
     "text": [
      "2024-10-01\n"
     ]
    }
   ],
   "source": [
    "import datetime\n",
    "\n",
    "today = datetime.date.today()\n",
    "\n",
    "print(today)"
   ]
  },
  {
   "cell_type": "code",
   "execution_count": 36,
   "metadata": {},
   "outputs": [],
   "source": [
    "import csv\n",
    "\n",
    "header = ['Title', 'Price', 'Date']\n",
    "data = [title,price, today]\n",
    "\n",
    "with open('AmazoneWebScraperDataset.csv', 'w', newline='',encoding='UTF8') as f:\n",
    "    writer = csv.writer(f)\n",
    "    writer.writerow(header)\n",
    "    writer.writerow(data)\n",
    "\n"
   ]
  },
  {
   "cell_type": "code",
   "execution_count": 54,
   "metadata": {},
   "outputs": [
    {
     "name": "stdout",
     "output_type": "stream",
     "text": [
      "                                               Title  Price        Date\n",
      "0  Got Data? Data Analyst Programmer Accountant D...  17.99  2024-10-01\n",
      "1  Got Data? Data Analyst Programmer Accountant D...  17.99  2024-10-01\n",
      "2  Got Data? Data Analyst Programmer Accountant D...  17.99  2024-10-01\n",
      "3  Got Data? Data Analyst Programmer Accountant D...  17.99  2024-10-01\n",
      "4  Got Data? Data Analyst Programmer Accountant D...  17.99  2024-10-01\n"
     ]
    }
   ],
   "source": [
    "import pandas as pd\n",
    "\n",
    "df = pd.read_csv(r'E:\\DataAnalyst\\DA_Bootcamp\\AmazoneWebScraperDataset.csv')\n",
    "\n",
    "print(df)"
   ]
  },
  {
   "cell_type": "code",
   "execution_count": 53,
   "metadata": {},
   "outputs": [],
   "source": [
    "#Now we are appending data to the csv\n",
    "\n",
    "\n",
    "with open('AmazoneWebScraperDataset.csv', 'a+', newline='',encoding='UTF8') as f:\n",
    "    writer = csv.writer(f)\n",
    "    writer.writerow(data)\n",
    "\n"
   ]
  },
  {
   "cell_type": "code",
   "execution_count": 4,
   "metadata": {},
   "outputs": [],
   "source": [
    "def check_price():\n",
    "    URL = 'https://www.amazon.com/Data-Analyst-Programmer-Accountant-Distressed/dp/B0C1TH5NPM/ref=sr_1_1?crid=3PWTU4MGRPCEJ&dib=eyJ2IjoiMSJ9.qg5LhQH2xA-xArUfkTVjq6RD5mmIWwb_zQ1k3Z6nSIyfth9CaXSOPsDRyooI1701eM4P9RPp9fFixwl8aX-umQ.UWfAATEz5G05vFWww9XyepDdsrCUGEtsUhBAnWSuwKo&dib_tag=se&keywords=funny+got+data+mis+data+systems+business+analyst+t-shirt&qid=1727785902&sprefix=funny+got+%2Caps%2C334&sr=8-1'\n",
    "\n",
    "    headers = {\"User-Agent\": \"Mozilla/5.0 (Windows NT 10.0; Win64; x64) AppleWebKit/537.36 (KHTML, like Gecko) Chrome/129.0.0.0 Safari/537.36\",\"Accept-Encoding\": \"gzip, deflate, br, zstd\",\"Accept\": \"text/html,application/xhtml+xml,application/xml;q=0.9,\",\"DNT\":\"1\",\"Connection\":\"close\",\"Upgrade-Insecure-Requests\": \"1\"}\n",
    "\n",
    "    page = requests.get(URL, headers=headers )\n",
    "\n",
    "\n",
    "    soup1 = BeautifulSoup(page.content, \"html.parser\")\n",
    "\n",
    "    soup2 = BeautifulSoup(soup1.prettify(),\"html.parser\")\n",
    "\n",
    "    title = soup2.find(id='productTitle').get_text()\n",
    "\n",
    "    price = soup2.find(id='corePrice_desktop').get_text()\n",
    "\n",
    "    price = price.replace(\"\\n\", \"\")\n",
    "    price = price.split()[-1]\n",
    "    price = price.strip()[1:]\n",
    "    title = title.strip()\n",
    "\n",
    "    import datetime\n",
    "\n",
    "    today = datetime.date.today()\n",
    "\n",
    "    header = ['Title', 'Price', 'Date']\n",
    "    data = [title,price, today]\n",
    "\n",
    "    with open('AmazoneWebScraperDataset.csv', 'a+', newline='',encoding='UTF8') as f:\n",
    "        writer = csv.writer(f)\n",
    "        writer.writerow(data)\n",
    "\n",
    "    if (float(price) < 14):\n",
    "        send_mail()\n",
    "\n",
    "\n"
   ]
  },
  {
   "cell_type": "code",
   "execution_count": 59,
   "metadata": {},
   "outputs": [],
   "source": [
    "while(True):\n",
    "    check_price()\n",
    "    time.sleep(86400)\n",
    "  \n"
   ]
  },
  {
   "cell_type": "code",
   "execution_count": 55,
   "metadata": {},
   "outputs": [
    {
     "name": "stdout",
     "output_type": "stream",
     "text": [
      "                                               Title  Price        Date\n",
      "0  Got Data? Data Analyst Programmer Accountant D...  17.99  2024-10-01\n",
      "1  Got Data? Data Analyst Programmer Accountant D...  17.99  2024-10-01\n",
      "2  Got Data? Data Analyst Programmer Accountant D...  17.99  2024-10-01\n",
      "3  Got Data? Data Analyst Programmer Accountant D...  17.99  2024-10-01\n",
      "4  Got Data? Data Analyst Programmer Accountant D...  17.99  2024-10-01\n"
     ]
    }
   ],
   "source": [
    "import pandas as pd\n",
    "\n",
    "df = pd.read_csv(r'E:\\DataAnalyst\\DA_Bootcamp\\AmazoneWebScraperDataset.csv')\n",
    "\n",
    "print(df)"
   ]
  },
  {
   "cell_type": "code",
   "execution_count": 2,
   "metadata": {},
   "outputs": [],
   "source": [
    "def send_mail():\n",
    "    server = smtplib.SMTP_SSL('smtp.gmail.com',465)\n",
    "    server.ehlo()\n",
    "    #server.starttis()\n",
    "    server.ehlo()\n",
    "    server.login('diepcattuong213@gmail.com','')\n",
    "\n",
    "    subject = \"The Shirt you want is below $15! Now is your chance to buy!\"\n",
    "    body = \"Windy, This is the moment we have been waiting for, now is your chance to pick up this shirt of your dreams, Don't mess it up! Link here: \"\n",
    "\n",
    "    msg = f\"Subject: {subject}\\n\\n{body}\"\n",
    "\n",
    "    server.sendmail(\n",
    "        diepcattuong213@gmail.com,\n",
    "        msg\n",
    "    )\n",
    "\n",
    "\n"
   ]
  }
 ],
 "metadata": {
  "kernelspec": {
   "display_name": "Python 3",
   "language": "python",
   "name": "python3"
  },
  "language_info": {
   "codemirror_mode": {
    "name": "ipython",
    "version": 3
   },
   "file_extension": ".py",
   "mimetype": "text/x-python",
   "name": "python",
   "nbconvert_exporter": "python",
   "pygments_lexer": "ipython3",
   "version": "3.12.4"
  }
 },
 "nbformat": 4,
 "nbformat_minor": 2
}
